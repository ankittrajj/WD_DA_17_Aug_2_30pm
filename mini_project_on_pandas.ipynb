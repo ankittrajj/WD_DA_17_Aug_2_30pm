{
 "cells": [
  {
   "cell_type": "code",
   "execution_count": 1,
   "id": "320ec959",
   "metadata": {},
   "outputs": [],
   "source": [
    "import pandas as pd\n"
   ]
  },
  {
   "cell_type": "code",
   "execution_count": 2,
   "id": "58f97c4c",
   "metadata": {},
   "outputs": [],
   "source": [
    "df = pd.read_csv(r'C:\\Users\\Satyam\\Downloads\\CAR DETAILS FROM CAR DEKHO.csv')"
   ]
  },
  {
   "cell_type": "code",
   "execution_count": 14,
   "id": "eb687ca0",
   "metadata": {},
   "outputs": [
    {
     "data": {
      "text/html": [
       "<div>\n",
       "<style scoped>\n",
       "    .dataframe tbody tr th:only-of-type {\n",
       "        vertical-align: middle;\n",
       "    }\n",
       "\n",
       "    .dataframe tbody tr th {\n",
       "        vertical-align: top;\n",
       "    }\n",
       "\n",
       "    .dataframe thead th {\n",
       "        text-align: right;\n",
       "    }\n",
       "</style>\n",
       "<table border=\"1\" class=\"dataframe\">\n",
       "  <thead>\n",
       "    <tr style=\"text-align: right;\">\n",
       "      <th></th>\n",
       "      <th>name</th>\n",
       "      <th>year</th>\n",
       "      <th>selling_price</th>\n",
       "    </tr>\n",
       "  </thead>\n",
       "  <tbody>\n",
       "    <tr>\n",
       "      <th>8</th>\n",
       "      <td>Hyundai Creta 1.6 VTVT S</td>\n",
       "      <td>2015</td>\n",
       "      <td>850000</td>\n",
       "    </tr>\n",
       "    <tr>\n",
       "      <th>12</th>\n",
       "      <td>Toyota Corolla Altis 1.8 VL CVT</td>\n",
       "      <td>2018</td>\n",
       "      <td>1650000</td>\n",
       "    </tr>\n",
       "    <tr>\n",
       "      <th>21</th>\n",
       "      <td>Hyundai Creta 1.6 VTVT S</td>\n",
       "      <td>2015</td>\n",
       "      <td>850000</td>\n",
       "    </tr>\n",
       "    <tr>\n",
       "      <th>25</th>\n",
       "      <td>Toyota Corolla Altis 1.8 VL CVT</td>\n",
       "      <td>2018</td>\n",
       "      <td>1650000</td>\n",
       "    </tr>\n",
       "    <tr>\n",
       "      <th>27</th>\n",
       "      <td>Hyundai Venue SX Opt Diesel</td>\n",
       "      <td>2019</td>\n",
       "      <td>1195000</td>\n",
       "    </tr>\n",
       "    <tr>\n",
       "      <th>...</th>\n",
       "      <td>...</td>\n",
       "      <td>...</td>\n",
       "      <td>...</td>\n",
       "    </tr>\n",
       "    <tr>\n",
       "      <th>4311</th>\n",
       "      <td>Toyota Camry Hybrid 2.5</td>\n",
       "      <td>2017</td>\n",
       "      <td>1900000</td>\n",
       "    </tr>\n",
       "    <tr>\n",
       "      <th>4312</th>\n",
       "      <td>Maruti Ertiga 1.5 VDI</td>\n",
       "      <td>2019</td>\n",
       "      <td>1000000</td>\n",
       "    </tr>\n",
       "    <tr>\n",
       "      <th>4313</th>\n",
       "      <td>Ford Endeavour 2.2 Titanium AT 4X2</td>\n",
       "      <td>2019</td>\n",
       "      <td>2800000</td>\n",
       "    </tr>\n",
       "    <tr>\n",
       "      <th>4332</th>\n",
       "      <td>Mahindra Scorpio S2 7 Seater</td>\n",
       "      <td>2015</td>\n",
       "      <td>750000</td>\n",
       "    </tr>\n",
       "    <tr>\n",
       "      <th>4338</th>\n",
       "      <td>Hyundai Creta 1.6 CRDi SX Option</td>\n",
       "      <td>2016</td>\n",
       "      <td>865000</td>\n",
       "    </tr>\n",
       "  </tbody>\n",
       "</table>\n",
       "<p>1057 rows × 3 columns</p>\n",
       "</div>"
      ],
      "text/plain": [
       "                                    name  year  selling_price\n",
       "8               Hyundai Creta 1.6 VTVT S  2015         850000\n",
       "12       Toyota Corolla Altis 1.8 VL CVT  2018        1650000\n",
       "21              Hyundai Creta 1.6 VTVT S  2015         850000\n",
       "25       Toyota Corolla Altis 1.8 VL CVT  2018        1650000\n",
       "27           Hyundai Venue SX Opt Diesel  2019        1195000\n",
       "...                                  ...   ...            ...\n",
       "4311             Toyota Camry Hybrid 2.5  2017        1900000\n",
       "4312               Maruti Ertiga 1.5 VDI  2019        1000000\n",
       "4313  Ford Endeavour 2.2 Titanium AT 4X2  2019        2800000\n",
       "4332        Mahindra Scorpio S2 7 Seater  2015         750000\n",
       "4338    Hyundai Creta 1.6 CRDi SX Option  2016         865000\n",
       "\n",
       "[1057 rows x 3 columns]"
      ]
     },
     "execution_count": 14,
     "metadata": {},
     "output_type": "execute_result"
    }
   ],
   "source": [
    "# columns\n",
    "# null value\n",
    "# head\n",
    "# tail\n",
    "# sample\n",
    "# info\n",
    "# describe\n",
    "# corr\n",
    "\n",
    "# 1. Name the car which is having the selling price more than 600000.\n",
    "\n",
    "df[df['selling_price']>600000][['name','year','selling_price']]"
   ]
  },
  {
   "cell_type": "code",
   "execution_count": 10,
   "id": "ca4ee36c",
   "metadata": {},
   "outputs": [
    {
     "data": {
      "text/plain": [
       "(4340, 8)"
      ]
     },
     "execution_count": 10,
     "metadata": {},
     "output_type": "execute_result"
    }
   ],
   "source": [
    "df.shape"
   ]
  },
  {
   "cell_type": "code",
   "execution_count": 18,
   "id": "87174e43",
   "metadata": {},
   "outputs": [
    {
     "data": {
      "text/html": [
       "<div>\n",
       "<style scoped>\n",
       "    .dataframe tbody tr th:only-of-type {\n",
       "        vertical-align: middle;\n",
       "    }\n",
       "\n",
       "    .dataframe tbody tr th {\n",
       "        vertical-align: top;\n",
       "    }\n",
       "\n",
       "    .dataframe thead th {\n",
       "        text-align: right;\n",
       "    }\n",
       "</style>\n",
       "<table border=\"1\" class=\"dataframe\">\n",
       "  <thead>\n",
       "    <tr style=\"text-align: right;\">\n",
       "      <th></th>\n",
       "      <th>name</th>\n",
       "      <th>km_driven</th>\n",
       "    </tr>\n",
       "  </thead>\n",
       "  <tbody>\n",
       "    <tr>\n",
       "      <th>0</th>\n",
       "      <td>Maruti 800 AC</td>\n",
       "      <td>70000</td>\n",
       "    </tr>\n",
       "    <tr>\n",
       "      <th>1</th>\n",
       "      <td>Maruti Wagon R LXI Minor</td>\n",
       "      <td>50000</td>\n",
       "    </tr>\n",
       "    <tr>\n",
       "      <th>2</th>\n",
       "      <td>Hyundai Verna 1.6 SX</td>\n",
       "      <td>100000</td>\n",
       "    </tr>\n",
       "    <tr>\n",
       "      <th>3</th>\n",
       "      <td>Datsun RediGO T Option</td>\n",
       "      <td>46000</td>\n",
       "    </tr>\n",
       "    <tr>\n",
       "      <th>4</th>\n",
       "      <td>Honda Amaze VX i-DTEC</td>\n",
       "      <td>141000</td>\n",
       "    </tr>\n",
       "    <tr>\n",
       "      <th>...</th>\n",
       "      <td>...</td>\n",
       "      <td>...</td>\n",
       "    </tr>\n",
       "    <tr>\n",
       "      <th>4335</th>\n",
       "      <td>Hyundai i20 Magna 1.4 CRDi (Diesel)</td>\n",
       "      <td>80000</td>\n",
       "    </tr>\n",
       "    <tr>\n",
       "      <th>4336</th>\n",
       "      <td>Hyundai i20 Magna 1.4 CRDi</td>\n",
       "      <td>80000</td>\n",
       "    </tr>\n",
       "    <tr>\n",
       "      <th>4337</th>\n",
       "      <td>Maruti 800 AC BSIII</td>\n",
       "      <td>83000</td>\n",
       "    </tr>\n",
       "    <tr>\n",
       "      <th>4338</th>\n",
       "      <td>Hyundai Creta 1.6 CRDi SX Option</td>\n",
       "      <td>90000</td>\n",
       "    </tr>\n",
       "    <tr>\n",
       "      <th>4339</th>\n",
       "      <td>Renault KWID RXT</td>\n",
       "      <td>40000</td>\n",
       "    </tr>\n",
       "  </tbody>\n",
       "</table>\n",
       "<p>3892 rows × 2 columns</p>\n",
       "</div>"
      ],
      "text/plain": [
       "                                     name  km_driven\n",
       "0                           Maruti 800 AC      70000\n",
       "1                Maruti Wagon R LXI Minor      50000\n",
       "2                    Hyundai Verna 1.6 SX     100000\n",
       "3                  Datsun RediGO T Option      46000\n",
       "4                   Honda Amaze VX i-DTEC     141000\n",
       "...                                   ...        ...\n",
       "4335  Hyundai i20 Magna 1.4 CRDi (Diesel)      80000\n",
       "4336           Hyundai i20 Magna 1.4 CRDi      80000\n",
       "4337                  Maruti 800 AC BSIII      83000\n",
       "4338     Hyundai Creta 1.6 CRDi SX Option      90000\n",
       "4339                     Renault KWID RXT      40000\n",
       "\n",
       "[3892 rows x 2 columns]"
      ]
     },
     "execution_count": 18,
     "metadata": {},
     "output_type": "execute_result"
    }
   ],
   "source": [
    "# Name the car having manual transmission and also find how much km its driven.\n",
    "\n",
    "df[df['transmission'] == 'Manual'][['name','km_driven']]"
   ]
  },
  {
   "cell_type": "code",
   "execution_count": 20,
   "id": "a493ba7f",
   "metadata": {},
   "outputs": [
    {
     "data": {
      "text/plain": [
       "0                                      Maruti 800 AC\n",
       "1                           Maruti Wagon R LXI Minor\n",
       "2                               Hyundai Verna 1.6 SX\n",
       "3                             Datsun RediGO T Option\n",
       "5                               Maruti Alto LX BSIII\n",
       "                            ...                     \n",
       "4324                            Maruti Alto 800 Base\n",
       "4332                    Mahindra Scorpio S2 7 Seater\n",
       "4334    Toyota Innova 2.5 VX (Diesel) 8 Seater BS IV\n",
       "4338                Hyundai Creta 1.6 CRDi SX Option\n",
       "4339                                Renault KWID RXT\n",
       "Name: name, Length: 2832, dtype: object"
      ]
     },
     "execution_count": 20,
     "metadata": {},
     "output_type": "execute_result"
    }
   ],
   "source": [
    "#  Name the list of the car having sold by first owner.\n",
    "df[df['owner']=='First Owner']['name']"
   ]
  },
  {
   "cell_type": "code",
   "execution_count": 34,
   "id": "c3a785b3",
   "metadata": {},
   "outputs": [
    {
     "data": {
      "text/html": [
       "<div>\n",
       "<style scoped>\n",
       "    .dataframe tbody tr th:only-of-type {\n",
       "        vertical-align: middle;\n",
       "    }\n",
       "\n",
       "    .dataframe tbody tr th {\n",
       "        vertical-align: top;\n",
       "    }\n",
       "\n",
       "    .dataframe thead th {\n",
       "        text-align: right;\n",
       "    }\n",
       "</style>\n",
       "<table border=\"1\" class=\"dataframe\">\n",
       "  <thead>\n",
       "    <tr style=\"text-align: right;\">\n",
       "      <th></th>\n",
       "      <th>name</th>\n",
       "      <th>year</th>\n",
       "      <th>selling_price</th>\n",
       "      <th>km_driven</th>\n",
       "      <th>fuel</th>\n",
       "      <th>seller_type</th>\n",
       "      <th>transmission</th>\n",
       "      <th>owner</th>\n",
       "    </tr>\n",
       "  </thead>\n",
       "  <tbody>\n",
       "    <tr>\n",
       "      <th>163</th>\n",
       "      <td>Jaguar XJ 5.0 L V8 Supercharged</td>\n",
       "      <td>2010</td>\n",
       "      <td>2550000</td>\n",
       "      <td>40000</td>\n",
       "      <td>Petrol</td>\n",
       "      <td>Individual</td>\n",
       "      <td>Automatic</td>\n",
       "      <td>Second Owner</td>\n",
       "    </tr>\n",
       "    <tr>\n",
       "      <th>2685</th>\n",
       "      <td>Audi Q5 2.0 TFSI Quattro</td>\n",
       "      <td>2010</td>\n",
       "      <td>1100000</td>\n",
       "      <td>110000</td>\n",
       "      <td>Petrol</td>\n",
       "      <td>Individual</td>\n",
       "      <td>Automatic</td>\n",
       "      <td>First Owner</td>\n",
       "    </tr>\n",
       "    <tr>\n",
       "      <th>3782</th>\n",
       "      <td>Toyota Fortuner 3.0 Diesel</td>\n",
       "      <td>2010</td>\n",
       "      <td>1250000</td>\n",
       "      <td>205000</td>\n",
       "      <td>Diesel</td>\n",
       "      <td>Individual</td>\n",
       "      <td>Manual</td>\n",
       "      <td>Second Owner</td>\n",
       "    </tr>\n",
       "    <tr>\n",
       "      <th>3875</th>\n",
       "      <td>Land Rover Range Rover 4.4 Diesel LWB Vogue SE</td>\n",
       "      <td>2010</td>\n",
       "      <td>4200000</td>\n",
       "      <td>100000</td>\n",
       "      <td>Diesel</td>\n",
       "      <td>Dealer</td>\n",
       "      <td>Automatic</td>\n",
       "      <td>First Owner</td>\n",
       "    </tr>\n",
       "  </tbody>\n",
       "</table>\n",
       "</div>"
      ],
      "text/plain": [
       "                                                name  year  selling_price  \\\n",
       "163                  Jaguar XJ 5.0 L V8 Supercharged  2010        2550000   \n",
       "2685                        Audi Q5 2.0 TFSI Quattro  2010        1100000   \n",
       "3782                      Toyota Fortuner 3.0 Diesel  2010        1250000   \n",
       "3875  Land Rover Range Rover 4.4 Diesel LWB Vogue SE  2010        4200000   \n",
       "\n",
       "      km_driven    fuel seller_type transmission         owner  \n",
       "163       40000  Petrol  Individual    Automatic  Second Owner  \n",
       "2685     110000  Petrol  Individual    Automatic   First Owner  \n",
       "3782     205000  Diesel  Individual       Manual  Second Owner  \n",
       "3875     100000  Diesel      Dealer    Automatic   First Owner  "
      ]
     },
     "execution_count": 34,
     "metadata": {},
     "output_type": "execute_result"
    }
   ],
   "source": [
    "#  Name the list of car having selling price more than 10lac but manufacturing\n",
    "# year will be 2010.\n",
    "\n",
    "df[(df['selling_price'] > 1000000) & (df['year']== 2010)]"
   ]
  },
  {
   "cell_type": "code",
   "execution_count": 28,
   "id": "ff401679",
   "metadata": {},
   "outputs": [
    {
     "data": {
      "text/plain": [
       "8900000"
      ]
     },
     "execution_count": 28,
     "metadata": {},
     "output_type": "execute_result"
    }
   ],
   "source": [
    "# most expensive car\n",
    "df['selling_price'].max()"
   ]
  },
  {
   "cell_type": "code",
   "execution_count": 35,
   "id": "6b14b639",
   "metadata": {},
   "outputs": [
    {
     "data": {
      "text/plain": [
       "0       False\n",
       "1       False\n",
       "2       False\n",
       "3       False\n",
       "4       False\n",
       "        ...  \n",
       "4335    False\n",
       "4336    False\n",
       "4337    False\n",
       "4338    False\n",
       "4339    False\n",
       "Name: selling_price, Length: 4340, dtype: bool"
      ]
     },
     "execution_count": 35,
     "metadata": {},
     "output_type": "execute_result"
    }
   ],
   "source": [
    "d['selling_price']== df['selling_price'].max()]"
   ]
  },
  {
   "cell_type": "code",
   "execution_count": 37,
   "id": "8c2426c1",
   "metadata": {},
   "outputs": [
    {
     "data": {
      "text/plain": [
       "3872    Audi RS7 2015-2019 Sportback Performance\n",
       "Name: name, dtype: object"
      ]
     },
     "execution_count": 37,
     "metadata": {},
     "output_type": "execute_result"
    }
   ],
   "source": [
    "df[df['selling_price']== df['selling_price'].max()]['name']"
   ]
  },
  {
   "cell_type": "code",
   "execution_count": null,
   "id": "081b30e9",
   "metadata": {},
   "outputs": [],
   "source": []
  }
 ],
 "metadata": {
  "kernelspec": {
   "display_name": "Python 3 (ipykernel)",
   "language": "python",
   "name": "python3"
  },
  "language_info": {
   "codemirror_mode": {
    "name": "ipython",
    "version": 3
   },
   "file_extension": ".py",
   "mimetype": "text/x-python",
   "name": "python",
   "nbconvert_exporter": "python",
   "pygments_lexer": "ipython3",
   "version": "3.9.7"
  }
 },
 "nbformat": 4,
 "nbformat_minor": 5
}
